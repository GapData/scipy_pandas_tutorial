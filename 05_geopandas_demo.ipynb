{
 "cells": [
  {
   "cell_type": "markdown",
   "metadata": {},
   "source": [
    "# Part 5: Introduction to GeoPandas"
   ]
  },
  {
   "cell_type": "code",
   "execution_count": null,
   "metadata": {
    "collapsed": false
   },
   "outputs": [],
   "source": [
    "\"\"\"\n",
    "----------------------------------------------------------------------\n",
    "Filename : 05_geopandas_demo.py\n",
    "Date     : 12th Dec, 2013\n",
    "Author   : Jaidev Deshpande\n",
    "Purpose  : Introduction to time series analysis and plotting in Pandas\n",
    "Libraries: Pandas, GeoPandas, NumPy, Matplotlib\n",
    "----------------------------------------------------------------------\n",
    "\"\"\""
   ]
  },
  {
   "cell_type": "code",
   "execution_count": null,
   "metadata": {
    "collapsed": false
   },
   "outputs": [],
   "source": [
    "# standard library imports\n",
    "from os.path import join\n",
    "from datetime import date, datetime\n",
    "\n",
    "# system library imports\n",
    "import numpy as np\n",
    "import matplotlib.pyplot as plt\n",
    "import pandas as pd\n",
    "import geopandas as gp\n",
    "\n",
    "# local imports\n",
    "from state_abb import states as us_states"
   ]
  },
  {
   "cell_type": "code",
   "execution_count": null,
   "metadata": {
    "collapsed": false
   },
   "outputs": [],
   "source": [
    "ufo_data_file = join('data','ufo_awesome.csv')\n",
    "usa_shp_file  = join('data','usa_state_shapefile.shp')"
   ]
  },
  {
   "cell_type": "code",
   "execution_count": null,
   "metadata": {
    "collapsed": false
   },
   "outputs": [],
   "source": [
    "def parse_dates(date, fmt='%Y%m%d'):\n",
    "    \"\"\" Utility function to parse the dates in ufo_awesome.tsv dataset to datetime objects. \"\"\"\n",
    "    try:\n",
    "        date = datetime.strptime(str(date),fmt)\n",
    "    except ValueError:\n",
    "        date = np.NaN\n",
    "    return date\n",
    "\n",
    "def get_locations(location):\n",
    "    \"\"\" Parser for the `locations` column in ufo_awesome.tsv\"\"\"\n",
    "    if type(location) is str:\n",
    "        return [i.lstrip() for i in location.split(',')][:2]\n",
    "    return [\"\",\"\"]"
   ]
  },
  {
   "cell_type": "code",
   "execution_count": null,
   "metadata": {
    "collapsed": false
   },
   "outputs": [],
   "source": [
    "# Read the UFO dataframe\n",
    "ufo_df = pd.read_csv(ufo_data_file)"
   ]
  },
  {
   "cell_type": "code",
   "execution_count": null,
   "metadata": {
    "collapsed": false
   },
   "outputs": [],
   "source": [
    "# Clear out rows with bad dates\n",
    "a = np.array(map(len, ufo_df['DateOccured'].astype('str'))) == 8\n",
    "b = np.array(map(len, ufo_df['DateReported'].astype('str'))) == 8\n",
    "good_rows = np.logical_and(a,b)\n",
    "ufo_df = ufo_df.ix[good_rows]"
   ]
  },
  {
   "cell_type": "code",
   "execution_count": null,
   "metadata": {
    "collapsed": false
   },
   "outputs": [],
   "source": [
    "# Convert dates to properly formatted datetime objects\n",
    "ufo_df['DateOccured'] = ufo_df['DateOccured'].map(parse_dates)\n",
    "ufo_df['DateReported'] = ufo_df['DateReported'].map(parse_dates)"
   ]
  },
  {
   "cell_type": "code",
   "execution_count": null,
   "metadata": {
    "collapsed": false
   },
   "outputs": [],
   "source": [
    "# Separate the City and State information in two columns\n",
    "locations = ufo_df['Location'].map(get_locations)\n",
    "ufo_df['city'] = [loc[0] for loc in locations]\n",
    "ufo_df['state'] = [loc[1] if len(loc)==2 else loc[0] for loc in locations]"
   ]
  },
  {
   "cell_type": "code",
   "execution_count": null,
   "metadata": {
    "collapsed": false
   },
   "outputs": [],
   "source": [
    "# Identify which states are in the USA\n",
    "american_states = []\n",
    "for state in ufo_df['state']:\n",
    "    if state in us_states.keys():\n",
    "        american_states.append(state)\n",
    "    else:\n",
    "        american_states.append(None)\n",
    "ufo_df['USStates'] = american_states"
   ]
  },
  {
   "cell_type": "code",
   "execution_count": null,
   "metadata": {
    "collapsed": false
   },
   "outputs": [],
   "source": [
    "# Throw away data that doesn't belong in the US\n",
    "ufo_df = ufo_df[ufo_df['USStates']!=None]"
   ]
  },
  {
   "cell_type": "markdown",
   "metadata": {},
   "source": [
    "### NOW we are ready for some analysis!"
   ]
  },
  {
   "cell_type": "markdown",
   "metadata": {},
   "source": [
    "### Exercise: Separate out UFO sightings that happened in or after the year 1990"
   ]
  },
  {
   "cell_type": "code",
   "execution_count": null,
   "metadata": {
    "collapsed": false
   },
   "outputs": [],
   "source": [
    "# Define a datetime object called `beginning` and slice the ufo dataframe\n",
    "# for every timestamp greater than `beginning`\n",
    "# Your code here\n"
   ]
  },
  {
   "cell_type": "markdown",
   "metadata": {},
   "source": [
    "### Exercise: plot a histogram of UFO sightings by year"
   ]
  },
  {
   "cell_type": "code",
   "execution_count": null,
   "metadata": {
    "collapsed": false
   },
   "outputs": [],
   "source": [
    "# Plotting code here\n"
   ]
  },
  {
   "cell_type": "code",
   "execution_count": null,
   "metadata": {
    "collapsed": false
   },
   "outputs": [],
   "source": [
    "# Get the monthly count for ufo sightings in United States\n"
   ]
  },
  {
   "cell_type": "markdown",
   "metadata": {},
   "source": [
    "### Exercise: Generate the following plot using what we did so far."
   ]
  },
  {
   "cell_type": "code",
   "execution_count": null,
   "metadata": {
    "collapsed": false
   },
   "outputs": [],
   "source": []
  }
 ],
 "metadata": {
  "kernelspec": {
   "display_name": "Python 2",
   "language": "python",
   "name": "python2"
  },
  "language_info": {
   "codemirror_mode": {
    "name": "ipython",
    "version": 2
   },
   "file_extension": ".py",
   "mimetype": "text/x-python",
   "name": "python",
   "nbconvert_exporter": "python",
   "pygments_lexer": "ipython2",
   "version": "2.7.11"
  }
 },
 "nbformat": 4,
 "nbformat_minor": 0
}
