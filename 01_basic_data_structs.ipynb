{
 "metadata": {
  "name": "01_basic_data_structs"
 },
 "nbformat": 3,
 "nbformat_minor": 0,
 "worksheets": [
  {
   "cells": [
    {
     "cell_type": "heading",
     "level": 1,
     "metadata": {},
     "source": [
      "Part 1: Data Structures in Pandas"
     ]
    },
    {
     "cell_type": "code",
     "collapsed": false,
     "input": [
      "\"\"\"\n",
      "----------------------------------------------------------------------\n",
      "Filename : 01_basic_data_structs.py\n",
      "Date     : 12th Dec, 2013\n",
      "Author   : Jaidev Deshpande\n",
      "Purpose  : To get started with basic data structures in Pandas\n",
      "Libraries: Pandas 0.12 and its dependencies\n",
      "----------------------------------------------------------------------\n",
      "\"\"\""
     ],
     "language": "python",
     "metadata": {},
     "outputs": []
    },
    {
     "cell_type": "markdown",
     "metadata": {},
     "source": [
      "pandas is an open source, BSD-licensed library providing high-performance, \n",
      "easy-to-use data structures and data analysis tools for the Python programming language.\n",
      "http://pandas.pydata.org\n",
      "\n",
      "There are many useful objects in Pandas:\n",
      "\n",
      "* Series\n",
      "* DataFrame\n",
      "* Panel\n",
      "* TimeSeries"
     ]
    },
    {
     "cell_type": "heading",
     "level": 3,
     "metadata": {},
     "source": [
      "Series and DataFrame"
     ]
    },
    {
     "cell_type": "code",
     "collapsed": false,
     "input": [
      "# imports\n",
      "import pandas as pd"
     ],
     "language": "python",
     "metadata": {},
     "outputs": [],
     "prompt_number": 2
    },
    {
     "cell_type": "code",
     "collapsed": false,
     "input": [
      "s = pd.Series(range(10))\n",
      "print s"
     ],
     "language": "python",
     "metadata": {},
     "outputs": [
      {
       "output_type": "stream",
       "stream": "stdout",
       "text": [
        "0    0\n",
        "1    1\n",
        "2    2\n",
        "3    3\n",
        "4    4\n",
        "5    5\n",
        "6    6\n",
        "7    7\n",
        "8    8\n",
        "9    9\n",
        "dtype: int64\n"
       ]
      }
     ],
     "prompt_number": 4
    },
    {
     "cell_type": "code",
     "collapsed": false,
     "input": [
      "print s[5]"
     ],
     "language": "python",
     "metadata": {},
     "outputs": [
      {
       "output_type": "stream",
       "stream": "stdout",
       "text": [
        "5\n"
       ]
      }
     ],
     "prompt_number": 5
    },
    {
     "cell_type": "markdown",
     "metadata": {},
     "source": [
      "A pandas `Series`, like a list, doesn't have to be homogenous."
     ]
    },
    {
     "cell_type": "code",
     "collapsed": false,
     "input": [
      "s = pd.Series(['foo', None, 3+4j])"
     ],
     "language": "python",
     "metadata": {},
     "outputs": [],
     "prompt_number": 6
    },
    {
     "cell_type": "markdown",
     "metadata": {},
     "source": [
      "The index of a Series can be arbitrary as well."
     ]
    },
    {
     "cell_type": "code",
     "collapsed": false,
     "input": [
      "inds = ['bar',1,pi]\n",
      "s.index = inds\n",
      "print s['bar'], s[1], s[pi]"
     ],
     "language": "python",
     "metadata": {},
     "outputs": [
      {
       "output_type": "stream",
       "stream": "stdout",
       "text": [
        "foo None (3+4j)\n"
       ]
      }
     ],
     "prompt_number": 7
    },
    {
     "cell_type": "markdown",
     "metadata": {},
     "source": [
      "Multiple `Series` objects can be clubbed together to make a pandas `DataFrame`. The pandas `DataFrame` is similar to the `data.frame` object in R."
     ]
    },
    {
     "cell_type": "code",
     "collapsed": false,
     "input": [
      "s1 = pd.Series(range(10))\n",
      "s2 = pd.Series(range(10,20))\n",
      "df = pd.DataFrame({'A':s1,'B':s2})\n",
      "print df.head()"
     ],
     "language": "python",
     "metadata": {},
     "outputs": [
      {
       "output_type": "stream",
       "stream": "stdout",
       "text": [
        "   A   B\n",
        "0  0  10\n",
        "1  1  11\n",
        "2  2  12\n",
        "3  3  13\n",
        "4  4  14\n"
       ]
      }
     ],
     "prompt_number": 33
    },
    {
     "cell_type": "markdown",
     "metadata": {},
     "source": [
      "Think of pandas `DataFrames` as `dict`s of `Series`. Almost all operations that are valid on a Python `dictionary` will work on a pandas `DataFrame`."
     ]
    },
    {
     "cell_type": "code",
     "collapsed": false,
     "input": [
      "df['C'] = map(str, range(20,30))\n",
      "print df.head()"
     ],
     "language": "python",
     "metadata": {},
     "outputs": [
      {
       "output_type": "stream",
       "stream": "stdout",
       "text": [
        "   A   B   C\n",
        "0  0  10  20\n",
        "1  1  11  21\n",
        "2  2  12  22\n",
        "3  3  13  23\n",
        "4  4  14  24\n"
       ]
      }
     ],
     "prompt_number": 34
    },
    {
     "cell_type": "code",
     "collapsed": false,
     "input": [
      "print df['C']"
     ],
     "language": "python",
     "metadata": {},
     "outputs": [
      {
       "output_type": "stream",
       "stream": "stdout",
       "text": [
        "0    20\n",
        "1    21\n",
        "2    22\n",
        "3    23\n",
        "4    24\n",
        "5    25\n",
        "6    26\n",
        "7    27\n",
        "8    28\n",
        "9    29\n",
        "Name: C, dtype: object\n"
       ]
      }
     ],
     "prompt_number": 35
    },
    {
     "cell_type": "code",
     "collapsed": false,
     "input": [
      "del df['A']\n",
      "print df.head(10)"
     ],
     "language": "python",
     "metadata": {},
     "outputs": [
      {
       "output_type": "stream",
       "stream": "stdout",
       "text": [
        "    B   C\n",
        "0  10  20\n",
        "1  11  21\n",
        "2  12  22\n",
        "3  13  23\n",
        "4  14  24\n",
        "5  15  25\n",
        "6  16  26\n",
        "7  17  27\n",
        "8  18  28\n",
        "9  19  29\n"
       ]
      }
     ],
     "prompt_number": 36
    },
    {
     "cell_type": "code",
     "collapsed": false,
     "input": [
      "df.update({'D':range(50,60)})\n",
      "print df.head()"
     ],
     "language": "python",
     "metadata": {},
     "outputs": [
      {
       "output_type": "stream",
       "stream": "stdout",
       "text": [
        "    B   C\n",
        "0  10  20\n",
        "1  11  21\n",
        "2  12  22\n",
        "3  13  23\n",
        "4  14  24\n"
       ]
      }
     ],
     "prompt_number": 39
    },
    {
     "cell_type": "heading",
     "level": 3,
     "metadata": {},
     "source": [
      "Index Objects"
     ]
    },
    {
     "cell_type": "markdown",
     "metadata": {},
     "source": [
      "Index objects available in Pandas:\n",
      "\n",
      "* `Index`        : The most general Pandas index, often created by default\n",
      "* `Int64Index`   : Specialized index for integer values\n",
      "* `MultiIndex`   : Hierarchical index\n",
      "* `DatetimeIndex`: Nanosecond timestamps that can be used as indexes\n",
      "* `PeriodIndex`  : Specialized indices for timespans"
     ]
    },
    {
     "cell_type": "code",
     "collapsed": false,
     "input": [
      "df.index"
     ],
     "language": "python",
     "metadata": {},
     "outputs": [
      {
       "output_type": "pyout",
       "prompt_number": 40,
       "text": [
        "Int64Index([0, 1, 2, 3, 4, 5, 6, 7, 8, 9], dtype=int64)"
       ]
      }
     ],
     "prompt_number": 40
    },
    {
     "cell_type": "heading",
     "level": 3,
     "metadata": {},
     "source": [
      "Exercise: Creating Series, DataFrames and indexing them"
     ]
    },
    {
     "cell_type": "markdown",
     "metadata": {},
     "source": [
      "1. Create a random valued NumPy array having dimensions (10,10).\n",
      "2. Convert this into a DataFrame\n",
      "3. The column names of this DataFrame should be of type str.\n",
      "4. Add one more column to the DataFrame using the `update` method demonstrated above."
     ]
    },
    {
     "cell_type": "code",
     "collapsed": false,
     "input": [],
     "language": "python",
     "metadata": {},
     "outputs": []
    }
   ],
   "metadata": {}
  }
 ]
}