{
 "metadata": {
  "name": "04_time_series_in_pandas.py"
 },
 "nbformat": 3,
 "nbformat_minor": 0,
 "worksheets": [
  {
   "cells": [
    {
     "cell_type": "heading",
     "level": 1,
     "metadata": {},
     "source": [
      "Part 4: Time Series Analysis in Pandas"
     ]
    },
    {
     "cell_type": "code",
     "collapsed": false,
     "input": [
      "\"\"\"\n",
      "----------------------------------------------------------------------\n",
      "Filename : 04_time_series_in_pandas.py\n",
      "Date     : 12th Dec, 2013\n",
      "Author   : Jaidev Deshpande\n",
      "Purpose  : Introduction to time series analysis and plotting in Pandas\n",
      "Libraries: Pandas, NumPy, Matplotlib\n",
      "----------------------------------------------------------------------\n",
      "\"\"\""
     ],
     "language": "python",
     "metadata": {},
     "outputs": []
    },
    {
     "cell_type": "code",
     "collapsed": false,
     "input": [
      "# standard library imports\n",
      "from datetime import date\n",
      "\n",
      "# system library imports\n",
      "import numpy as np\n",
      "import pandas as pd\n",
      "import matplotlib.pyplot as plt"
     ],
     "language": "python",
     "metadata": {},
     "outputs": [],
     "prompt_number": 2
    },
    {
     "cell_type": "code",
     "collapsed": false,
     "input": [
      "def create_timestamp_sample():\n",
      "    \"\"\"\n",
      "    Create a Pandas `TimeSeries` object with random data, \n",
      "    timestamped from 1st January 2000 to 31st December 2013\n",
      "    \"\"\"\n",
      "    times = pd.date_range(start='1/1/2000', end='31/12/2013')\n",
      "    data = np.random.randn(len(times))\n",
      "    return pd.Series(data, index=times)"
     ],
     "language": "python",
     "metadata": {},
     "outputs": [],
     "prompt_number": 2
    },
    {
     "cell_type": "code",
     "collapsed": false,
     "input": [
      "ts = create_timestamp_sample()"
     ],
     "language": "python",
     "metadata": {},
     "outputs": [],
     "prompt_number": 9
    },
    {
     "cell_type": "code",
     "collapsed": false,
     "input": [
      "print ts['1/1/2000']"
     ],
     "language": "python",
     "metadata": {},
     "outputs": [],
     "prompt_number": 1
    },
    {
     "cell_type": "code",
     "collapsed": false,
     "input": [
      "# Create a datetime object\n",
      "dt = date(2000,1,1)\n",
      "print ts[dt]"
     ],
     "language": "python",
     "metadata": {},
     "outputs": [],
     "prompt_number": 3
    },
    {
     "cell_type": "code",
     "collapsed": false,
     "input": [
      "# Slicing a timeseries by dates:\n",
      "print ts['1/1/2000':'31/1/2000']"
     ],
     "language": "python",
     "metadata": {},
     "outputs": [],
     "prompt_number": 4
    },
    {
     "cell_type": "code",
     "collapsed": false,
     "input": [
      "# Changing the frequency of a TimeSeries\n",
      "converted_s = s.asfreq('M',method='bfill')\n",
      "fig, axes = plt.subplots(nrows=2,ncols=1)\n",
      "s.plot(ax=axes[0],figsize=(20,10))\n",
      "axes[0].set_title('Daily, for 14 years')\n",
      "converted_s.plot(ax=axes[1])\n",
      "axes[1].set_title('Monthly, for 14 years')\n",
      "plt.show()"
     ],
     "language": "python",
     "metadata": {},
     "outputs": [],
     "prompt_number": 6
    },
    {
     "cell_type": "code",
     "collapsed": false,
     "input": [
      "def series_interpolation(n_sample):\n",
      "    # Create a Series with some empty data\n",
      "    x = np.linspace(-4*np.pi, 4*np.pi, 1000)\n",
      "    y = np.sin(x)\n",
      "    samples = np.arange(0,1000,1000.0/n_sample).astype(int)\n",
      "    y_sampled = np.zeros((1000,),float)\n",
      "    y_sampled[samples] = y[samples]\n",
      "    y_sampled[y_sampled==0] = np.nan\n",
      "    Y = pd.Series(y_sampled)\n",
      "    return Y"
     ],
     "language": "python",
     "metadata": {},
     "outputs": [],
     "prompt_number": 7
    },
    {
     "cell_type": "code",
     "collapsed": false,
     "input": [
      "# Series interpolation demo\n",
      "sample_sizes = [10,25,50,75,100]\n",
      "sampled_data = [series_interpolation(n) for n in sample_sizes]\n",
      "fig, axes = plt.subplots(nrows=len(sample_sizes),ncols=1, figsize=(20,10))\n",
      "for i in range(len(sample_sizes)):\n",
      "   data = sampled_data[i]\n",
      "   interpolated = data.interpolate()\n",
      "   data[data.notnull()].plot(style='ro',ax=axes[i])\n",
      "   interpolated.plot('b-',ax=axes[i])\n",
      "   axes[i].set_title(\"Sample Size = \"+str(sample_sizes[i]))\n",
      "plt.show()"
     ],
     "language": "python",
     "metadata": {},
     "outputs": [],
     "prompt_number": 8
    },
    {
     "cell_type": "code",
     "collapsed": false,
     "input": [
      "# Upsampling and downsampling\n",
      "print s.index.freq\n",
      "upsampled = s.resample('12H',fill_method='bfill')\n",
      "downsampled = s.resample('M')\n",
      "print upsampled.shape\n",
      "print downsampled.shape\n",
      "fig, axes = plt.subplots(3,1, figsize=(20,10))\n",
      "s.plot(ax=axes[0],title='Original Data')\n",
      "upsampled.plot(ax=axes[1],title='Upsampled Data')\n",
      "downsampled.plot(ax=axes[2], title='Downsampled Data')\n",
      "plt.show()"
     ],
     "language": "python",
     "metadata": {},
     "outputs": [],
     "prompt_number": 9
    },
    {
     "cell_type": "heading",
     "level": 3,
     "metadata": {},
     "source": [
      "Exercise: Datetime Indexing"
     ]
    },
    {
     "cell_type": "markdown",
     "metadata": {},
     "source": [
      "1. Read the `stock_px.csv` file in the `data` folder into a DataFrame\n",
      "2. It contains stock market ticker data for four stocks\n",
      "3. The DataFrame should have the `timestamp` column as index\n",
      "4. Calculate the mean value of the 'AAPL' stock during the month of December for all leap years in the dataset."
     ]
    },
    {
     "cell_type": "heading",
     "level": 3,
     "metadata": {},
     "source": [
      "Exercise: Interpolation"
     ]
    },
    {
     "cell_type": "code",
     "collapsed": false,
     "input": [
      "def create_interpolation_exercise():\n",
      "    random.seed(0)\n",
      "    x = zeros((1000,),dtype=float)\n",
      "    inds = random.randint(low=0, high=1000, size=(100,))\n",
      "    values = random.randn(100)\n",
      "    x[inds] = values\n",
      "    x[x==0] = nan\n",
      "    return pd.Series(x)"
     ],
     "language": "python",
     "metadata": {},
     "outputs": [],
     "prompt_number": 30
    },
    {
     "cell_type": "markdown",
     "metadata": {},
     "source": [
      "1. Use the function `create_interpolation_exercise` to create a Series randomly filled with NaNs. \n",
      "2. Interpolate this series to fill up the NaN values.\n",
      "3. Calculate the summary statistics of this interpolated series."
     ]
    },
    {
     "cell_type": "code",
     "collapsed": false,
     "input": [],
     "language": "python",
     "metadata": {},
     "outputs": []
    }
   ],
   "metadata": {}
  }
 ]
}